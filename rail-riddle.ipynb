{
 "cells": [
  {
   "cell_type": "code",
   "execution_count": 1,
   "id": "edca5e8d",
   "metadata": {},
   "outputs": [],
   "source": [
    "import pandas as pd\n",
    "import numpy as np\n",
    "import matplotlib.pyplot as plt\n",
    "import seaborn as sns"
   ]
  },
  {
   "cell_type": "code",
   "execution_count": 28,
   "id": "b05a9c13",
   "metadata": {},
   "outputs": [
    {
     "name": "stderr",
     "output_type": "stream",
     "text": [
      "C:\\Users\\User\\AppData\\Local\\Temp\\ipykernel_2132\\1694083823.py:1: DtypeWarning: Columns (5,19,20,21,22) have mixed types. Specify dtype option on import or set low_memory=False.\n",
      "  df = pd.read_csv(\"QMASTOR rail data dump.csv\")\n"
     ]
    }
   ],
   "source": [
    "df = pd.read_csv(\"QMASTOR rail data dump.csv\")"
   ]
  },
  {
   "cell_type": "code",
   "execution_count": 29,
   "id": "42d07e29",
   "metadata": {},
   "outputs": [
    {
     "data": {
      "text/html": [
       "<div>\n",
       "<style scoped>\n",
       "    .dataframe tbody tr th:only-of-type {\n",
       "        vertical-align: middle;\n",
       "    }\n",
       "\n",
       "    .dataframe tbody tr th {\n",
       "        vertical-align: top;\n",
       "    }\n",
       "\n",
       "    .dataframe thead th {\n",
       "        text-align: right;\n",
       "    }\n",
       "</style>\n",
       "<table border=\"1\" class=\"dataframe\">\n",
       "  <thead>\n",
       "    <tr style=\"text-align: right;\">\n",
       "      <th></th>\n",
       "      <th>Unnamed: 0</th>\n",
       "      <th>CargoMovementID</th>\n",
       "      <th>CargoMovementName</th>\n",
       "      <th>BU</th>\n",
       "      <th>Customer</th>\n",
       "      <th>Route</th>\n",
       "      <th>NWB trains.NWBPreliminaryDate</th>\n",
       "      <th>NWB trains.NWBConfirmedDate</th>\n",
       "      <th>THTs.T1</th>\n",
       "      <th>THTs.SL</th>\n",
       "      <th>...</th>\n",
       "      <th>Consignment</th>\n",
       "      <th>Cancelled.ReasonGroup</th>\n",
       "      <th>Cancelled.ReasonSubgroup</th>\n",
       "      <th>Cancelled.ReasonCode</th>\n",
       "      <th>Wagons.Planned</th>\n",
       "      <th>Wagons.Actual</th>\n",
       "      <th>Wagons.Tipped</th>\n",
       "      <th>Wagons.Bypassed</th>\n",
       "      <th>Wagons.DTK</th>\n",
       "      <th>Wagons.Tonnes</th>\n",
       "    </tr>\n",
       "  </thead>\n",
       "  <tbody>\n",
       "    <tr>\n",
       "      <th>0</th>\n",
       "      <td>0</td>\n",
       "      <td>34095</td>\n",
       "      <td>Location190Test</td>\n",
       "      <td>Location74 Location194 Coal</td>\n",
       "      <td>Location34</td>\n",
       "      <td>NaN</td>\n",
       "      <td>NaT</td>\n",
       "      <td>NaT</td>\n",
       "      <td>NaT</td>\n",
       "      <td>NaT</td>\n",
       "      <td>...</td>\n",
       "      <td>NaN</td>\n",
       "      <td>NaN</td>\n",
       "      <td>NaN</td>\n",
       "      <td>NaN</td>\n",
       "      <td>NaN</td>\n",
       "      <td>NaN</td>\n",
       "      <td>NaN</td>\n",
       "      <td>NaN</td>\n",
       "      <td>NaN</td>\n",
       "      <td>NaN</td>\n",
       "    </tr>\n",
       "    <tr>\n",
       "      <th>1</th>\n",
       "      <td>1</td>\n",
       "      <td>34107</td>\n",
       "      <td>8082367791</td>\n",
       "      <td>Location74 Location194 Coal</td>\n",
       "      <td>Location62</td>\n",
       "      <td>Location190 to Location82</td>\n",
       "      <td>NaT</td>\n",
       "      <td>NaT</td>\n",
       "      <td>2011-09-13 16:45:00</td>\n",
       "      <td>2011-09-13 18:45:00</td>\n",
       "      <td>...</td>\n",
       "      <td>8082367791</td>\n",
       "      <td>NaN</td>\n",
       "      <td>NaN</td>\n",
       "      <td>NaN</td>\n",
       "      <td>NaN</td>\n",
       "      <td>6.0</td>\n",
       "      <td>NaN</td>\n",
       "      <td>NaN</td>\n",
       "      <td>NaN</td>\n",
       "      <td>1000.0</td>\n",
       "    </tr>\n",
       "    <tr>\n",
       "      <th>2</th>\n",
       "      <td>2</td>\n",
       "      <td>34107</td>\n",
       "      <td>8082367791</td>\n",
       "      <td>Location74 Location194 Coal</td>\n",
       "      <td>Location62</td>\n",
       "      <td>Location190 to Location82</td>\n",
       "      <td>NaT</td>\n",
       "      <td>NaT</td>\n",
       "      <td>2011-09-13 16:45:00</td>\n",
       "      <td>2011-09-13 18:45:00</td>\n",
       "      <td>...</td>\n",
       "      <td>8082367791</td>\n",
       "      <td>NaN</td>\n",
       "      <td>NaN</td>\n",
       "      <td>NaN</td>\n",
       "      <td>NaN</td>\n",
       "      <td>6.0</td>\n",
       "      <td>NaN</td>\n",
       "      <td>NaN</td>\n",
       "      <td>NaN</td>\n",
       "      <td>1000.0</td>\n",
       "    </tr>\n",
       "    <tr>\n",
       "      <th>3</th>\n",
       "      <td>3</td>\n",
       "      <td>34107</td>\n",
       "      <td>8082367791</td>\n",
       "      <td>Location74 Location194 Coal</td>\n",
       "      <td>Location62</td>\n",
       "      <td>Location190 to Location82</td>\n",
       "      <td>NaT</td>\n",
       "      <td>NaT</td>\n",
       "      <td>2011-09-13 16:45:00</td>\n",
       "      <td>2011-09-13 18:45:00</td>\n",
       "      <td>...</td>\n",
       "      <td>8082367791</td>\n",
       "      <td>NaN</td>\n",
       "      <td>NaN</td>\n",
       "      <td>NaN</td>\n",
       "      <td>NaN</td>\n",
       "      <td>6.0</td>\n",
       "      <td>NaN</td>\n",
       "      <td>NaN</td>\n",
       "      <td>NaN</td>\n",
       "      <td>1000.0</td>\n",
       "    </tr>\n",
       "    <tr>\n",
       "      <th>4</th>\n",
       "      <td>4</td>\n",
       "      <td>34107</td>\n",
       "      <td>8082367791</td>\n",
       "      <td>Location74 Location194 Coal</td>\n",
       "      <td>Location62</td>\n",
       "      <td>Location190 to Location82</td>\n",
       "      <td>NaT</td>\n",
       "      <td>NaT</td>\n",
       "      <td>2011-09-13 16:45:00</td>\n",
       "      <td>2011-09-13 18:45:00</td>\n",
       "      <td>...</td>\n",
       "      <td>8082367791</td>\n",
       "      <td>NaN</td>\n",
       "      <td>NaN</td>\n",
       "      <td>NaN</td>\n",
       "      <td>NaN</td>\n",
       "      <td>6.0</td>\n",
       "      <td>NaN</td>\n",
       "      <td>NaN</td>\n",
       "      <td>NaN</td>\n",
       "      <td>1000.0</td>\n",
       "    </tr>\n",
       "  </tbody>\n",
       "</table>\n",
       "<p>5 rows × 29 columns</p>\n",
       "</div>"
      ],
      "text/plain": [
       "   Unnamed: 0  CargoMovementID CargoMovementName                           BU  \\\n",
       "0           0            34095   Location190Test  Location74 Location194 Coal   \n",
       "1           1            34107        8082367791  Location74 Location194 Coal   \n",
       "2           2            34107        8082367791  Location74 Location194 Coal   \n",
       "3           3            34107        8082367791  Location74 Location194 Coal   \n",
       "4           4            34107        8082367791  Location74 Location194 Coal   \n",
       "\n",
       "     Customer                      Route NWB trains.NWBPreliminaryDate  \\\n",
       "0  Location34                        NaN                           NaT   \n",
       "1  Location62  Location190 to Location82                           NaT   \n",
       "2  Location62  Location190 to Location82                           NaT   \n",
       "3  Location62  Location190 to Location82                           NaT   \n",
       "4  Location62  Location190 to Location82                           NaT   \n",
       "\n",
       "  NWB trains.NWBConfirmedDate              THTs.T1              THTs.SL  ...  \\\n",
       "0                         NaT                  NaT                  NaT  ...   \n",
       "1                         NaT  2011-09-13 16:45:00  2011-09-13 18:45:00  ...   \n",
       "2                         NaT  2011-09-13 16:45:00  2011-09-13 18:45:00  ...   \n",
       "3                         NaT  2011-09-13 16:45:00  2011-09-13 18:45:00  ...   \n",
       "4                         NaT  2011-09-13 16:45:00  2011-09-13 18:45:00  ...   \n",
       "\n",
       "  Consignment Cancelled.ReasonGroup Cancelled.ReasonSubgroup  \\\n",
       "0         NaN                   NaN                      NaN   \n",
       "1  8082367791                   NaN                      NaN   \n",
       "2  8082367791                   NaN                      NaN   \n",
       "3  8082367791                   NaN                      NaN   \n",
       "4  8082367791                   NaN                      NaN   \n",
       "\n",
       "  Cancelled.ReasonCode Wagons.Planned Wagons.Actual  Wagons.Tipped  \\\n",
       "0                  NaN            NaN           NaN            NaN   \n",
       "1                  NaN            NaN           6.0            NaN   \n",
       "2                  NaN            NaN           6.0            NaN   \n",
       "3                  NaN            NaN           6.0            NaN   \n",
       "4                  NaN            NaN           6.0            NaN   \n",
       "\n",
       "   Wagons.Bypassed  Wagons.DTK Wagons.Tonnes  \n",
       "0              NaN         NaN           NaN  \n",
       "1              NaN         NaN        1000.0  \n",
       "2              NaN         NaN        1000.0  \n",
       "3              NaN         NaN        1000.0  \n",
       "4              NaN         NaN        1000.0  \n",
       "\n",
       "[5 rows x 29 columns]"
      ]
     },
     "execution_count": 29,
     "metadata": {},
     "output_type": "execute_result"
    }
   ],
   "source": [
    "df.head()"
   ]
  },
  {
   "cell_type": "code",
   "execution_count": 30,
   "id": "ed57d55e",
   "metadata": {},
   "outputs": [
    {
     "data": {
      "text/plain": [
       "(427419, 29)"
      ]
     },
     "execution_count": 30,
     "metadata": {},
     "output_type": "execute_result"
    }
   ],
   "source": [
    "df.shape"
   ]
  },
  {
   "cell_type": "markdown",
   "id": "901d80e7",
   "metadata": {},
   "source": [
    "removing 'Wagons.Tonnes' beacuse of duplicates"
   ]
  },
  {
   "cell_type": "code",
   "execution_count": 31,
   "id": "072ca03b",
   "metadata": {},
   "outputs": [],
   "source": [
    "df.drop(['Unnamed: 0','Wagons.Tonnes'], axis = 1, inplace = True)"
   ]
  },
  {
   "cell_type": "code",
   "execution_count": 32,
   "id": "bf06d91f",
   "metadata": {},
   "outputs": [
    {
     "data": {
      "text/plain": [
       "394272"
      ]
     },
     "execution_count": 32,
     "metadata": {},
     "output_type": "execute_result"
    }
   ],
   "source": [
    "sum(df.duplicated())"
   ]
  },
  {
   "cell_type": "code",
   "execution_count": 33,
   "id": "fb56a6a8",
   "metadata": {},
   "outputs": [],
   "source": [
    "df.drop_duplicates(inplace=True) "
   ]
  },
  {
   "cell_type": "code",
   "execution_count": 34,
   "id": "1d0561d9",
   "metadata": {},
   "outputs": [
    {
     "data": {
      "text/plain": [
       "(33147, 27)"
      ]
     },
     "execution_count": 34,
     "metadata": {},
     "output_type": "execute_result"
    }
   ],
   "source": [
    "df.shape"
   ]
  },
  {
   "cell_type": "markdown",
   "id": "9a52a72e",
   "metadata": {},
   "source": [
    "# Feature Selection"
   ]
  },
  {
   "cell_type": "code",
   "execution_count": 35,
   "id": "0f30672c",
   "metadata": {
    "scrolled": true
   },
   "outputs": [
    {
     "data": {
      "text/plain": [
       "Index(['CargoMovementID', 'CargoMovementName', 'BU', 'Customer', 'Route',\n",
       "       'NWB trains.NWBPreliminaryDate', 'NWB trains.NWBConfirmedDate',\n",
       "       'THTs.T1', 'THTs.SL', 'THTs.FL', 'THTs.T2', 'THTs.Departed',\n",
       "       'CargoMovementStartDate', 'CargoMovementEndDate',\n",
       "       'Destination.DestinationTransactionDate',\n",
       "       'NWB trains.SourceTransactionQuantity',\n",
       "       'Destination.DestinationQuantSum', 'Destination.Split', 'Consignment',\n",
       "       'Cancelled.ReasonGroup', 'Cancelled.ReasonSubgroup',\n",
       "       'Cancelled.ReasonCode', 'Wagons.Planned', 'Wagons.Actual',\n",
       "       'Wagons.Tipped', 'Wagons.Bypassed', 'Wagons.DTK'],\n",
       "      dtype='object')"
      ]
     },
     "execution_count": 35,
     "metadata": {},
     "output_type": "execute_result"
    }
   ],
   "source": [
    "df.columns"
   ]
  },
  {
   "cell_type": "code",
   "execution_count": 36,
   "id": "0e5730b6",
   "metadata": {},
   "outputs": [],
   "source": [
    "df.drop(['CargoMovementID', 'CargoMovementName', 'BU', 'Customer',\n",
    "       'Route', 'THTs.Departed',\n",
    "       'CargoMovementStartDate', 'CargoMovementEndDate',\n",
    "       'Destination.DestinationTransactionDate',\n",
    "       'NWB trains.SourceTransactionQuantity', 'Destination.Split', 'Consignment',\n",
    "       'Cancelled.ReasonGroup', 'Cancelled.ReasonSubgroup',\n",
    "        'Wagons.Tipped', 'Wagons.Bypassed', 'Wagons.DTK'], axis = 1, inplace = True)"
   ]
  },
  {
   "cell_type": "code",
   "execution_count": 37,
   "id": "050e31fa",
   "metadata": {},
   "outputs": [
    {
     "data": {
      "text/plain": [
       "(33147, 10)"
      ]
     },
     "execution_count": 37,
     "metadata": {},
     "output_type": "execute_result"
    }
   ],
   "source": [
    "df.shape"
   ]
  },
  {
   "cell_type": "code",
   "execution_count": 38,
   "id": "eb134775",
   "metadata": {
    "scrolled": true
   },
   "outputs": [
    {
     "name": "stdout",
     "output_type": "stream",
     "text": [
      "<class 'pandas.core.frame.DataFrame'>\n",
      "Int64Index: 33147 entries, 0 to 427418\n",
      "Data columns (total 10 columns):\n",
      " #   Column                           Non-Null Count  Dtype  \n",
      "---  ------                           --------------  -----  \n",
      " 0   NWB trains.NWBPreliminaryDate    33147 non-null  object \n",
      " 1   NWB trains.NWBConfirmedDate      33147 non-null  object \n",
      " 2   THTs.T1                          33147 non-null  object \n",
      " 3   THTs.SL                          33147 non-null  object \n",
      " 4   THTs.FL                          33147 non-null  object \n",
      " 5   THTs.T2                          33147 non-null  object \n",
      " 6   Destination.DestinationQuantSum  8010 non-null   float64\n",
      " 7   Cancelled.ReasonCode             4628 non-null   object \n",
      " 8   Wagons.Planned                   6612 non-null   float64\n",
      " 9   Wagons.Actual                    12641 non-null  float64\n",
      "dtypes: float64(3), object(7)\n",
      "memory usage: 2.8+ MB\n"
     ]
    }
   ],
   "source": [
    "df.info()"
   ]
  },
  {
   "cell_type": "markdown",
   "id": "bd8d5bfb",
   "metadata": {},
   "source": [
    "converting object to date type"
   ]
  },
  {
   "cell_type": "code",
   "execution_count": 39,
   "id": "88691fb4",
   "metadata": {},
   "outputs": [],
   "source": [
    "df['NWB trains.NWBPreliminaryDate'] = pd.to_datetime(df['NWB trains.NWBPreliminaryDate'])\n",
    "df['NWB trains.NWBConfirmedDate'] = pd.to_datetime(df['NWB trains.NWBConfirmedDate'])\n",
    "df['THTs.T1'] = pd.to_datetime(df['THTs.T1'])\n",
    "df['THTs.T2'] = pd.to_datetime(df['THTs.T2'])\n",
    "df['THTs.SL'] = pd.to_datetime(df['THTs.SL'])\n",
    "df['THTs.FL'] = pd.to_datetime(df['THTs.FL'])\n"
   ]
  },
  {
   "cell_type": "markdown",
   "id": "c1989384",
   "metadata": {
    "scrolled": true
   },
   "source": [
    "# First delay "
   ]
  },
  {
   "cell_type": "markdown",
   "id": "83757c27",
   "metadata": {},
   "source": [
    "LD for loading delay = FL - SL"
   ]
  },
  {
   "cell_type": "markdown",
   "id": "9c78c93d",
   "metadata": {},
   "source": [
    "HD for total handling delay = T2-T1"
   ]
  },
  {
   "cell_type": "code",
   "execution_count": 40,
   "id": "c1dc5206",
   "metadata": {},
   "outputs": [],
   "source": [
    "df['LD'] = (df['THTs.FL'] - df['THTs.SL']).dt.total_seconds() / 3600"
   ]
  },
  {
   "cell_type": "code",
   "execution_count": 41,
   "id": "c4a65c5d",
   "metadata": {},
   "outputs": [],
   "source": [
    "df['HD'] = (df['THTs.T2'] - df['THTs.T1']).dt.total_seconds() / 3600"
   ]
  },
  {
   "cell_type": "code",
   "execution_count": 42,
   "id": "73c549bc",
   "metadata": {
    "scrolled": true
   },
   "outputs": [
    {
     "data": {
      "text/html": [
       "<div>\n",
       "<style scoped>\n",
       "    .dataframe tbody tr th:only-of-type {\n",
       "        vertical-align: middle;\n",
       "    }\n",
       "\n",
       "    .dataframe tbody tr th {\n",
       "        vertical-align: top;\n",
       "    }\n",
       "\n",
       "    .dataframe thead th {\n",
       "        text-align: right;\n",
       "    }\n",
       "</style>\n",
       "<table border=\"1\" class=\"dataframe\">\n",
       "  <thead>\n",
       "    <tr style=\"text-align: right;\">\n",
       "      <th></th>\n",
       "      <th>NWB trains.NWBPreliminaryDate</th>\n",
       "      <th>NWB trains.NWBConfirmedDate</th>\n",
       "      <th>THTs.T1</th>\n",
       "      <th>THTs.SL</th>\n",
       "      <th>THTs.FL</th>\n",
       "      <th>THTs.T2</th>\n",
       "      <th>Destination.DestinationQuantSum</th>\n",
       "      <th>Cancelled.ReasonCode</th>\n",
       "      <th>Wagons.Planned</th>\n",
       "      <th>Wagons.Actual</th>\n",
       "      <th>LD</th>\n",
       "      <th>HD</th>\n",
       "    </tr>\n",
       "  </thead>\n",
       "  <tbody>\n",
       "    <tr>\n",
       "      <th>0</th>\n",
       "      <td>NaT</td>\n",
       "      <td>NaT</td>\n",
       "      <td>NaT</td>\n",
       "      <td>NaT</td>\n",
       "      <td>NaT</td>\n",
       "      <td>NaT</td>\n",
       "      <td>NaN</td>\n",
       "      <td>NaN</td>\n",
       "      <td>NaN</td>\n",
       "      <td>NaN</td>\n",
       "      <td>NaN</td>\n",
       "      <td>NaN</td>\n",
       "    </tr>\n",
       "    <tr>\n",
       "      <th>1</th>\n",
       "      <td>NaT</td>\n",
       "      <td>NaT</td>\n",
       "      <td>2011-09-13 16:45:00</td>\n",
       "      <td>2011-09-13 18:45:00</td>\n",
       "      <td>2011-09-13 22:45:00</td>\n",
       "      <td>2011-09-13 23:45:00</td>\n",
       "      <td>NaN</td>\n",
       "      <td>NaN</td>\n",
       "      <td>NaN</td>\n",
       "      <td>6.0</td>\n",
       "      <td>4.00</td>\n",
       "      <td>7.000000</td>\n",
       "    </tr>\n",
       "    <tr>\n",
       "      <th>7</th>\n",
       "      <td>NaT</td>\n",
       "      <td>NaT</td>\n",
       "      <td>2011-09-17 08:10:00</td>\n",
       "      <td>2011-09-17 08:30:00</td>\n",
       "      <td>2011-09-17 13:00:00</td>\n",
       "      <td>2011-09-17 13:05:00</td>\n",
       "      <td>8173.00</td>\n",
       "      <td>NaN</td>\n",
       "      <td>NaN</td>\n",
       "      <td>98.0</td>\n",
       "      <td>4.50</td>\n",
       "      <td>4.916667</td>\n",
       "    </tr>\n",
       "    <tr>\n",
       "      <th>105</th>\n",
       "      <td>NaT</td>\n",
       "      <td>NaT</td>\n",
       "      <td>2011-09-24 06:50:00</td>\n",
       "      <td>2011-09-24 07:10:00</td>\n",
       "      <td>2011-09-24 10:55:00</td>\n",
       "      <td>2011-09-24 10:58:00</td>\n",
       "      <td>7640.23</td>\n",
       "      <td>NaN</td>\n",
       "      <td>NaN</td>\n",
       "      <td>92.0</td>\n",
       "      <td>3.75</td>\n",
       "      <td>4.133333</td>\n",
       "    </tr>\n",
       "    <tr>\n",
       "      <th>197</th>\n",
       "      <td>NaT</td>\n",
       "      <td>NaT</td>\n",
       "      <td>2011-10-05 11:20:00</td>\n",
       "      <td>2011-10-05 12:15:00</td>\n",
       "      <td>2011-10-05 16:00:00</td>\n",
       "      <td>2011-10-05 16:30:00</td>\n",
       "      <td>8193.98</td>\n",
       "      <td>NaN</td>\n",
       "      <td>NaN</td>\n",
       "      <td>NaN</td>\n",
       "      <td>3.75</td>\n",
       "      <td>5.166667</td>\n",
       "    </tr>\n",
       "  </tbody>\n",
       "</table>\n",
       "</div>"
      ],
      "text/plain": [
       "    NWB trains.NWBPreliminaryDate NWB trains.NWBConfirmedDate  \\\n",
       "0                             NaT                         NaT   \n",
       "1                             NaT                         NaT   \n",
       "7                             NaT                         NaT   \n",
       "105                           NaT                         NaT   \n",
       "197                           NaT                         NaT   \n",
       "\n",
       "                THTs.T1             THTs.SL             THTs.FL  \\\n",
       "0                   NaT                 NaT                 NaT   \n",
       "1   2011-09-13 16:45:00 2011-09-13 18:45:00 2011-09-13 22:45:00   \n",
       "7   2011-09-17 08:10:00 2011-09-17 08:30:00 2011-09-17 13:00:00   \n",
       "105 2011-09-24 06:50:00 2011-09-24 07:10:00 2011-09-24 10:55:00   \n",
       "197 2011-10-05 11:20:00 2011-10-05 12:15:00 2011-10-05 16:00:00   \n",
       "\n",
       "                THTs.T2  Destination.DestinationQuantSum Cancelled.ReasonCode  \\\n",
       "0                   NaT                              NaN                  NaN   \n",
       "1   2011-09-13 23:45:00                              NaN                  NaN   \n",
       "7   2011-09-17 13:05:00                          8173.00                  NaN   \n",
       "105 2011-09-24 10:58:00                          7640.23                  NaN   \n",
       "197 2011-10-05 16:30:00                          8193.98                  NaN   \n",
       "\n",
       "     Wagons.Planned  Wagons.Actual    LD        HD  \n",
       "0               NaN            NaN   NaN       NaN  \n",
       "1               NaN            6.0  4.00  7.000000  \n",
       "7               NaN           98.0  4.50  4.916667  \n",
       "105             NaN           92.0  3.75  4.133333  \n",
       "197             NaN            NaN  3.75  5.166667  "
      ]
     },
     "execution_count": 42,
     "metadata": {},
     "output_type": "execute_result"
    }
   ],
   "source": [
    "df.head()"
   ]
  },
  {
   "cell_type": "code",
   "execution_count": null,
   "id": "208d9c17",
   "metadata": {
    "scrolled": false
   },
   "outputs": [],
   "source": []
  },
  {
   "cell_type": "code",
   "execution_count": 43,
   "id": "a9c9e2da",
   "metadata": {},
   "outputs": [],
   "source": [
    "df_cleaned = df.copy()"
   ]
  },
  {
   "cell_type": "code",
   "execution_count": 44,
   "id": "4c5bf32f",
   "metadata": {},
   "outputs": [],
   "source": [
    "# Drop rows with NaN values in 'LD' column\n",
    "df_cleaned.dropna(subset=['LD'], inplace=True)\n",
    "df_cleaned.dropna(subset=['HD'], inplace=True)"
   ]
  },
  {
   "cell_type": "code",
   "execution_count": 45,
   "id": "5015204d",
   "metadata": {},
   "outputs": [
    {
     "data": {
      "text/plain": [
       "0"
      ]
     },
     "execution_count": 45,
     "metadata": {},
     "output_type": "execute_result"
    }
   ],
   "source": [
    "df_cleaned['LD'].isnull().sum()"
   ]
  },
  {
   "cell_type": "code",
   "execution_count": 46,
   "id": "ca7b64f8",
   "metadata": {},
   "outputs": [],
   "source": [
    "df_cleaned = df_cleaned[df_cleaned['LD'] >= 0]\n",
    "df_cleaned = df_cleaned[df_cleaned['HD'] >= 0]"
   ]
  },
  {
   "cell_type": "code",
   "execution_count": 47,
   "id": "9ce2b630",
   "metadata": {},
   "outputs": [
    {
     "data": {
      "image/png": "[encoded data removed]",
      "text/plain": [
       "<Figure size 1000x600 with 1 Axes>"
      ]
     },
     "metadata": {},
     "output_type": "display_data"
    }
   ],
   "source": [
    "# Set the desired figure size\n",
    "plt.figure(figsize=(10, 6))\n",
    "\n",
    "# Create the scatter plot\n",
    "plt.scatter(df_cleaned['Wagons.Actual'], df_cleaned['HD'], alpha=0.5)\n",
    "\n",
    "# Add labels and title\n",
    "plt.xlabel('Wagons Actual')\n",
    "plt.ylabel('LD Value')\n",
    "plt.title('Scatter Plot between LD and Wagons Actual')\n",
    "\n",
    "# Show the plot\n",
    "plt.show()\n",
    "\n"
   ]
  },
  {
   "cell_type": "code",
   "execution_count": 48,
   "id": "32f5b053",
   "metadata": {},
   "outputs": [],
   "source": [
    "# Calculate the IQR for 'LD' column\n",
    "Q1 = df_cleaned['LD'].quantile(0.25)\n",
    "Q3 = df_cleaned['LD'].quantile(0.75)\n",
    "IQR = Q3 - Q1\n",
    "\n",
    "# Define the lower and upper bounds for outliers\n",
    "lower_bound = Q1 - 1.5 * IQR\n",
    "upper_bound = Q3 + 1.5 * IQR\n",
    "\n",
    "# Remove outliers from 'LD' column\n",
    "df_cleaned = df_cleaned[(df_cleaned['LD'] >= lower_bound) & (df_cleaned['LD'] <= upper_bound)]\n",
    "\n",
    "# Now you can proceed to create the scatter plot or any other analysis\n"
   ]
  },
  {
   "cell_type": "markdown",
   "id": "663f3569",
   "metadata": {},
   "source": [
    "# After removing outliers"
   ]
  },
  {
   "cell_type": "code",
   "execution_count": 49,
   "id": "673f9725",
   "metadata": {},
   "outputs": [],
   "source": [
    "df1 = pd.read_csv(\"111.csv\")"
   ]
  },
  {
   "cell_type": "code",
   "execution_count": 50,
   "id": "8c9a47b9",
   "metadata": {},
   "outputs": [
    {
     "data": {
      "image/png": "[encoded data removed]",
      "text/plain": [
       "<Figure size 1000x600 with 1 Axes>"
      ]
     },
     "metadata": {},
     "output_type": "display_data"
    }
   ],
   "source": [
    "\n",
    "plt.figure(figsize=(10, 6))\n",
    "\n",
    "# Create a scatter plot for 'HD' values\n",
    "plt.scatter(df1['Wagons.Actual'],df1['HD'],   color='blue', alpha=0.5, label='HD')\n",
    "\n",
    "# Create a scatter plot for 'LD' values\n",
    "plt.scatter(df1['Wagons.Actual'],df1['LD'],  color='red', alpha=0.5, label='LD')\n",
    "\n",
    "# Add labels and title\n",
    "plt.xlabel('Wagons Actual')\n",
    "plt.ylabel('HD and LD')\n",
    "plt.title('Scatter Plot between HD, LD, and Wagons Actual')\n",
    "\n",
    "# Add legend\n",
    "plt.legend()\n",
    "\n",
    "# Show the plot\n",
    "plt.show()\n"
   ]
  },
  {
   "cell_type": "markdown",
   "id": "92994505",
   "metadata": {},
   "source": [
    "### There is a relation between HD (total handling delay) and number of wagons. when number of wagons increase that impact the loading time and, consequently, the departure time of the train."
   ]
  },
  {
   "cell_type": "markdown",
   "id": "2d492760",
   "metadata": {},
   "source": [
    "##### if we take a sample of 20 wagons and multiply it with ''Wagons.Tonnes'' around (62) it will result in non null value of 1250 which is close to 'Destination.DestinationQuantSum' (1238) which prove that lower number of wagons have no sgnificant delay inspite of 50 or more result in higher delay"
   ]
  },
  {
   "cell_type": "code",
   "execution_count": null,
   "id": "3cf2cfdd",
   "metadata": {},
   "outputs": [],
   "source": []
  }
 ],
 "metadata": {
  "kernelspec": {
   "display_name": "Python 3 (ipykernel)",
   "language": "python",
   "name": "python3"
  },
  "language_info": {
   "codemirror_mode": {
    "name": "ipython",
    "version": 3
   },
   "file_extension": ".py",
   "mimetype": "text/x-python",
   "name": "python",
   "nbconvert_exporter": "python",
   "pygments_lexer": "ipython3",
   "version": "3.9.13"
  }
 },
 "nbformat": 4,
 "nbformat_minor": 5
}
